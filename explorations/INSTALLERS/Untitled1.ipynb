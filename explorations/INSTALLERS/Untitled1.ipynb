{
 "cells": [
  {
   "cell_type": "code",
   "execution_count": 1,
   "metadata": {},
   "outputs": [
    {
     "data": {
      "text/plain": [
       "- : int = 2\n"
      ]
     },
     "execution_count": 1,
     "metadata": {},
     "output_type": "execute_result"
    },
    {
     "name": "stdout",
     "output_type": "stream",
     "text": [
      "\tCamlp4 Parsing version 4.05.0\n",
      "\n"
     ]
    }
   ],
   "source": [
    "1+1"
   ]
  },
  {
   "cell_type": "code",
   "execution_count": null,
   "metadata": {},
   "outputs": [
    {
     "name": "stderr",
     "output_type": "stream",
     "text": [
      "File \"[2]\", line 9, characters 2-3:\n",
      "Error:Parse error: [semi] expected after [str_item] (in [use_file])\n",
      "Fatal error: exception Pervasives.Exit\n",
      "Raised at file \"camlp4/Camlp4Top/Top.ml\", line 61, characters 14-18\n",
      "Called from file \"jupyter/src/repl/evaluation.ml\", line 109, characters 24-56\n",
      "Re-raised at file \"parsing/location.ml\", line 450, characters 20-23\n",
      "Re-raised at file \"parsing/location.ml\", line 450, characters 20-23\n",
      "Re-raised at file \"parsing/location.ml\", line 450, characters 20-23\n",
      "Re-raised at file \"parsing/location.ml\", line 450, characters 20-23\n",
      "Re-raised at file \"parsing/location.ml\", line 450, characters 20-23\n",
      "Re-raised at file \"parsing/location.ml\", line 450, characters 20-23\n",
      "Re-raised at file \"parsing/location.ml\", line 469, characters 16-61\n",
      "Called from file \"error.cppo.ml\", line 139, characters 2-29\n",
      "Called from file \"jupyter/src/repl/evaluation.ml\", line 115, characters 14-62\n",
      "Called from file \"jupyter/src/repl/process.ml\", line 73, characters 8-80\n",
      "Called from file \"jupyter/src/repl/process.ml\", line 76, characters 8-38\n",
      "Called from file \"jupyter/bin/jupyter_main.ml\", line 47, characters 4-149\n"
     ]
    }
   ],
   "source": [
    "open Core\n",
    "\n",
    "let do_hash file =\n",
    "  In_channel.with_file file ~f:(fun ic ->\n",
    "    let open Cryptokit in\n",
    "    hash_channel (Hash.md5 ()) ic\n",
    "    |> transform_string (Hexa.encode ())\n",
    "    |> print_endline\n",
    "  )\n",
    "\n",
    "[@@@part \"1\"] ;;\n",
    "let command =\n",
    "  Command.basic\n",
    "    ~summary:\"Generate an MD5 hash of the input data\"\n",
    "    ~readme:(fun () -> \"More detailed information\")\n",
    "    Command.Let_syntax.(\n",
    "      let%map_open file = anon (\"filename\" %: Filename.arg_type) in\n",
    "      fun () -> do_hash file)\n",
    "[@@@part \"2\"] ;;\n",
    "\n",
    "let () =\n",
    "  Command.run ~version:\"1.0\" ~build_info:\"RWO\" command\n"
   ]
  },
  {
   "cell_type": "code",
   "execution_count": null,
   "metadata": {},
   "outputs": [],
   "source": []
  }
 ],
 "metadata": {
  "kernelspec": {
   "display_name": "OCaml default",
   "language": "OCaml",
   "name": "ocaml-jupyter"
  },
  "language_info": {
   "codemirror_mode": "text/x-ocaml",
   "file_extension": ".ml",
   "mimetype": "text/x-ocaml",
   "name": "OCaml",
   "nbconverter_exporter": null,
   "pygments_lexer": "OCaml",
   "version": "4.05.0"
  }
 },
 "nbformat": 4,
 "nbformat_minor": 2
}
