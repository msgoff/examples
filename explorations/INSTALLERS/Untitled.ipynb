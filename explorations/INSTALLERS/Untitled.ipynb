{
 "cells": [
  {
   "cell_type": "code",
   "execution_count": 1,
   "metadata": {},
   "outputs": [
    {
     "name": "stdout",
     "output_type": "stream",
     "text": [
      "No such package: cohttp.async\n"
     ]
    }
   ],
   "source": [
    "#thread ;;\n",
    "#require \"cohttp.async,ppx_deriving_yojson\" ;;"
   ]
  },
  {
   "cell_type": "code",
   "execution_count": 1,
   "metadata": {},
   "outputs": [],
   "source": [
    "open Core"
   ]
  },
  {
   "cell_type": "code",
   "execution_count": null,
   "metadata": {},
   "outputs": [
    {
     "name": "stderr",
     "output_type": "stream",
     "text": [
      "File \"[2]\", line 4, characters 9-10Parse error: [semi] expected after [str_item] (in [use_file])\n",
      "Uncaught exception:\n",
      "  \n",
      "  Exit\n",
      "\n",
      "Raised at file \"camlp4/Camlp4Top/Top.ml\", line 61, characters 14-18\n",
      "Called from file \"jupyter/src/repl/evaluation.ml\", line 109, characters 24-56\n",
      "Re-raised at file \"parsing/location.ml\", line 904, characters 22-25\n",
      "Called from file \"error.cppo.ml\", line 147, characters 2-29\n",
      "Called from file \"jupyter/src/repl/evaluation.ml\", line 115, characters 14-62\n",
      "Called from file \"jupyter/src/repl/process.ml\", line 73, characters 8-80\n",
      "Called from file \"jupyter/src/repl/process.ml\", line 76, characters 8-38\n",
      "Called from file \"jupyter/bin/jupyter_main.ml\", line 47, characters 4-149\n"
     ]
    },
    {
     "name": "stdout",
     "output_type": "stream",
     "text": [
      "Raised at file \"stdlib.ml\", line 30, characters 25-45\n",
      "Called from file \"toplevel/toploop.ml\", line 490, characters 4-128\n",
      "Called from file \"toplevel/topdirs.ml\", line 157, characters 11-23\n"
     ]
    }
   ],
   "source": [
    "let sort_ l = List.sort l compare ;;\n",
    "\n",
    "let some_int i = \n",
    "    Some i -> i\n",
    "    |_ -> 0  ;;"
   ]
  },
  {
   "cell_type": "code",
   "execution_count": 9,
   "metadata": {},
   "outputs": [
    {
     "data": {
      "text/plain": [
       "- : Core_kernel.Int.t option = Some 2\n"
      ]
     },
     "execution_count": 9,
     "metadata": {},
     "output_type": "execute_result"
    }
   ],
   "source": [
    "List.hd (sort_ [10;2;3;])"
   ]
  },
  {
   "cell_type": "code",
   "execution_count": 6,
   "metadata": {},
   "outputs": [
    {
     "data": {
      "text/plain": [
       "- : int list = [1; 2; 3; 44]\n"
      ]
     },
     "execution_count": 6,
     "metadata": {},
     "output_type": "execute_result"
    }
   ],
   "source": [
    "sort_ l;;"
   ]
  },
  {
   "cell_type": "code",
   "execution_count": 1,
   "metadata": {},
   "outputs": [
    {
     "data": {
      "text/plain": [
       "val uniq : 'a list -> 'a list = <fun>\n"
      ]
     },
     "execution_count": 1,
     "metadata": {},
     "output_type": "execute_result"
    }
   ],
   "source": [
    "let rec uniq = \n",
    "    function\n",
    "    | [] -> []\n",
    "    | e::l  -> if List.mem e l then uniq l else e :: uniq l ;;"
   ]
  },
  {
   "cell_type": "code",
   "execution_count": 2,
   "metadata": {},
   "outputs": [
    {
     "data": {
      "text/plain": [
       "- : int list = [1; 2]\n"
      ]
     },
     "execution_count": 2,
     "metadata": {},
     "output_type": "execute_result"
    }
   ],
   "source": [
    "uniq [1;2;2;2;2;2]"
   ]
  },
  {
   "cell_type": "code",
   "execution_count": null,
   "metadata": {},
   "outputs": [],
   "source": []
  },
  {
   "cell_type": "code",
   "execution_count": null,
   "metadata": {},
   "outputs": [],
   "source": []
  },
  {
   "cell_type": "code",
   "execution_count": 14,
   "metadata": {},
   "outputs": [
    {
     "data": {
      "text/plain": [
       "val substring_test : string -> string list -> bool list = <fun>\n"
      ]
     },
     "execution_count": 14,
     "metadata": {},
     "output_type": "execute_result"
    }
   ],
   "source": [
    "let substring_test s l =\n",
    "  List.map ~f:(fun x ->String.is_substring  x s) l;;"
   ]
  },
  {
   "cell_type": "code",
   "execution_count": 15,
   "metadata": {},
   "outputs": [
    {
     "data": {
      "text/plain": [
       "- : bool list = [true; false]\n"
      ]
     },
     "execution_count": 15,
     "metadata": {},
     "output_type": "execute_result"
    }
   ],
   "source": [
    "substring_test \"a\" [\"as\";\"b\"]"
   ]
  },
  {
   "cell_type": "code",
   "execution_count": 6,
   "metadata": {},
   "outputs": [
    {
     "data": {
      "text/plain": [
       "- : bool = false\n"
      ]
     },
     "execution_count": 6,
     "metadata": {},
     "output_type": "execute_result"
    }
   ],
   "source": [
    "String.is_substring \"a\" \"asdf\""
   ]
  },
  {
   "cell_type": "code",
   "execution_count": 2,
   "metadata": {},
   "outputs": [
    {
     "ename": "error",
     "evalue": "compile_error",
     "output_type": "error",
     "traceback": [
      "File \"[2]\", line 1, characters 25-26:\n1 | List.filter ~f:(fun x -> x <> true) [true]\n                             ^\nError: This expression has type bool but an expression was expected of type\n         Core_kernel.Int.t = int\n"
     ]
    }
   ],
   "source": [
    "List.filter ~f:(fun x -> x <> true) [true]"
   ]
  },
  {
   "cell_type": "code",
   "execution_count": 2,
   "metadata": {},
   "outputs": [
    {
     "data": {
      "text/plain": [
       "val filter_bool : bool -> int = <fun>\n"
      ]
     },
     "execution_count": 2,
     "metadata": {},
     "output_type": "execute_result"
    }
   ],
   "source": [
    "let filter_bool x = \n",
    "    match x with \n",
    "    true -> 1\n",
    "    |false -> 0;;"
   ]
  },
  {
   "cell_type": "code",
   "execution_count": 7,
   "metadata": {},
   "outputs": [
    {
     "data": {
      "text/plain": [
       "- : bool = false\n"
      ]
     },
     "execution_count": 7,
     "metadata": {},
     "output_type": "execute_result"
    }
   ],
   "source": [
    "List.length (List.filter ~f:(fun x -> x) [false]) > 0"
   ]
  },
  {
   "cell_type": "code",
   "execution_count": 8,
   "metadata": {},
   "outputs": [
    {
     "ename": "error",
     "evalue": "compile_error",
     "output_type": "error",
     "traceback": [
      "File \"[8]\", line 2, characters 4-44:\n2 | ....if String.is_substring \"a\" x \n3 |     then x..\nError: This expression has type unit but an expression was expected of type\n         string\n"
     ]
    }
   ],
   "source": [
    "let test x = \n",
    "    if String.is_substring \"a\" x \n",
    "    then x;;"
   ]
  },
  {
   "cell_type": "code",
   "execution_count": null,
   "metadata": {},
   "outputs": [],
   "source": []
  }
 ],
 "metadata": {
  "kernelspec": {
   "display_name": "OCaml default",
   "language": "OCaml",
   "name": "ocaml-jupyter"
  },
  "language_info": {
   "codemirror_mode": "text/x-ocaml",
   "file_extension": ".ml",
   "mimetype": "text/x-ocaml",
   "name": "OCaml",
   "nbconverter_exporter": null,
   "pygments_lexer": "OCaml",
   "version": "4.08.1"
  }
 },
 "nbformat": 4,
 "nbformat_minor": 2
}
